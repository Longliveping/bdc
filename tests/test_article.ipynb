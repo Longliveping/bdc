{
 "cells": [
  {
   "cell_type": "markdown",
   "source": [
    "## db engine"
   ],
   "metadata": {
    "collapsed": false,
    "pycharm": {
     "name": "#%% md\n"
    }
   }
  },
  {
   "cell_type": "code",
   "execution_count": 2,
   "metadata": {
    "collapsed": true
   },
   "outputs": [],
   "source": [
    "from flask_sqlalchemy import SQLAlchemy\n",
    "from flask import Flask\n",
    "from datetime import datetime\n",
    "import os\n",
    "import re\n",
    "\n",
    "basedir = os.path.abspath('..')\n",
    "app = Flask(__name__)\n",
    "app.config['SQLALCHEMY_DATABASE_URI'] = 'postgresql+psycopg2://localhost/test_db'\n",
    "app.config['SQLALCHEMY_COMMIT_ON_TEARDOWN'] = True\n",
    "app.config['SQLALCHEMY_TRACK_MODIFICATIONS'] = False\n",
    "app.config['TESTING_FOLDER'] = os.path.join(basedir, 'utility/testing')\n",
    "app.config['MYDICT_FOLDER'] = os.path.join(basedir, 'utility/mydict')\n",
    "db = SQLAlchemy(app)"
   ]
  },
  {
   "cell_type": "markdown",
   "source": [
    "### db model"
   ],
   "metadata": {
    "collapsed": false,
    "pycharm": {
     "name": "#%% md\n"
    }
   }
  },
  {
   "cell_type": "code",
   "execution_count": 3,
   "outputs": [],
   "source": [
    "class Article(db.Model):\n",
    "    __tablename__ = 'articles'\n",
    "\n",
    "    id = db.Column(db.Integer, primary_key=True)\n",
    "    article = db.Column(db.String(256), unique=True)\n",
    "\n",
    "    def __init__(self, **kwargs):\n",
    "        super(Article, self).__init__(**kwargs)\n",
    "\n",
    "    def __repr__(self):\n",
    "        return f'<Article:{self.id}-{self.article}>'\n",
    "\n",
    "class Sentence(db.Model):\n",
    "    __tablename__ = 'sentences'\n",
    "    id = db.Column(db.Integer, primary_key=True)\n",
    "    sentence = db.Column(db.String(256))\n",
    "    translation = db.Column(db.String(256))\n",
    "    article_id = db.Column(db.Integer, db.ForeignKey('articles.id'))\n",
    "    article = db.relationship('Article', backref='sentences')\n",
    "\n",
    "    def __init__(self, **kwargs):\n",
    "        super(Sentence, self).__init__(**kwargs)\n",
    "\n",
    "    def __repr__(self):\n",
    "        return f'<Sentence:{self.id}-{self.sentence}>'\n",
    "\n",
    "class Word(db.Model):\n",
    "    __tablename__ = 'words'\n",
    "    id = db.Column(db.Integer, primary_key=True)\n",
    "    word = db.Column(db.String(64), unique=True)\n",
    "    translation = db.Column(db.String(256))\n",
    "\n",
    "    def __init__(self, **kwargs):\n",
    "        super(Word, self).__init__(**kwargs)\n",
    "\n",
    "    def __repr__(self):\n",
    "        return f'<Word:{self.id}-{self.word}>'\n",
    "\n",
    "class SentenceWord(db.Model):\n",
    "    __tablename__ = 'sentencewords'\n",
    "    id = db.Column(db.Integer, primary_key=True)\n",
    "    sentence_id = db.Column(db.Integer, db.ForeignKey('sentences.id'))\n",
    "    word_id = db.Column(db.Integer, db.ForeignKey('words.id'))\n",
    "    sentence = db.relationship('Sentence', backref='sentencewords')\n",
    "    word = db.relationship('Word', backref='sentencewords')\n",
    "\n",
    "    def __init__(self, **kwargs):\n",
    "        super(SentenceWord, self).__init__(**kwargs)\n",
    "\n",
    "    def __repr__(self):\n",
    "        return f'<SentenceWord:{self.id}-{self.sentence}-{self.word}>'\n",
    "\n",
    "class Review(db.Model):\n",
    "    __tablename__ = 'reviews'\n",
    "    id = db.Column(db.Integer, primary_key=True)\n",
    "    word_id = db.Column(db.Integer, db.ForeignKey('words.id'))\n",
    "    noshow = db.Column(db.Boolean, default=False)\n",
    "    known = db.Column(db.Boolean, default=False)\n",
    "    unknown = db.Column(db.Boolean, default=True)\n",
    "    blurry = db.Column(db.Boolean, default=False)\n",
    "    review_timestamp = db.Column(db.DateTime, default=datetime.utcnow,onupdate=datetime.now())\n",
    "    word = db.relationship('Word', backref='review')\n",
    "\n",
    "    def __init__(self, **kwargs):\n",
    "        super(Review, self).__init__(**kwargs)\n",
    "\n",
    "    def __repr__(self):\n",
    "        return f'<Review:{self.id}-{self.word}>'\n",
    "\n",
    "class Mydict(db.Model):\n",
    "    __tablename__ = 'mydict'\n",
    "    id = db.Column(db.Integer, primary_key=True)\n",
    "    word_id = db.Column(db.Integer, db.ForeignKey('words.id'))\n",
    "    word = db.relationship('Word', backref='mydict')\n",
    "    timestamp = db.Column(db.DateTime, default=datetime.utcnow)\n",
    "\n",
    "    def __init__(self, **kwargs):\n",
    "        super(Mydict, self).__init__(**kwargs)\n",
    "\n",
    "    def __repr__(self):\n",
    "        return f'<Mydict:{self.id}-{self.word}>'"
   ],
   "metadata": {
    "collapsed": false,
    "pycharm": {
     "name": "#%%\n"
    }
   }
  },
  {
   "cell_type": "markdown",
   "source": [
    "### define functions"
   ],
   "metadata": {
    "collapsed": false,
    "pycharm": {
     "name": "#%% md\n"
    }
   }
  },
  {
   "cell_type": "code",
   "execution_count": 7,
   "outputs": [],
   "source": [
    "def get_sentence(file):\n",
    "    with open(file, 'r') as f:\n",
    "        text = f.read()\n",
    "    pttn = re.compile(r\"[a-zA-Z].*\", re.I)\n",
    "    sentences = re.findall(pttn, text)\n",
    "    return sentences\n",
    "\n",
    "def get_tokens(text):\n",
    "    tokens = re.findall('[a-z]+', text.lower())\n",
    "    token = list(dict.fromkeys(tokens))\n",
    "    return token\n",
    "\n",
    "def read_text(filename):\n",
    "    with open(filename, 'r') as f:\n",
    "        text = f.read()\n",
    "    return text\n",
    "\n",
    "def delete_table_records():\n",
    "    db.session.query(SentenceWord).delete()\n",
    "    db.session.query(Sentence).delete()\n",
    "    db.session.query(Word).delete()\n",
    "    db.session.query(Article).delete()\n",
    "    db.session.commit()\n",
    "\n",
    "def drop_everything():\n",
    "    \"\"\"(On a live db) drops all foreign key constraints before dropping all tables.\n",
    "    Workaround for SQLAlchemy not doing DROP ## CASCADE for drop_all()\n",
    "    (https://github.com/pallets/flask-sqlalchemy/issues/722)\n",
    "    \"\"\"\n",
    "    from sqlalchemy.engine.reflection import Inspector\n",
    "    from sqlalchemy.schema import DropConstraint, DropTable, MetaData, Table\n",
    "    con = db.engine.connect()\n",
    "    print(con)\n",
    "    trans = con.begin()\n",
    "    inspector = Inspector.from_engine(db.engine)\n",
    "\n",
    "    # We need to re-create a minimal metadata with only the required things to\n",
    "    # successfully emit drop constraints and tables commands for postgres (based\n",
    "    # on the actual schema of the running instance)\n",
    "    meta = MetaData()\n",
    "    tables = []\n",
    "    all_fkeys = []\n",
    "\n",
    "    for table_name in inspector.get_table_names():\n",
    "        fkeys = []\n",
    "\n",
    "        for fkey in inspector.get_foreign_keys(table_name):\n",
    "            if not fkey[\"name\"]:\n",
    "                continue\n",
    "\n",
    "            fkeys.append(db.ForeignKeyConstraint((), (), name=fkey[\"name\"]))\n",
    "\n",
    "        tables.append(Table(table_name, meta, *fkeys))\n",
    "        all_fkeys.extend(fkeys)\n",
    "\n",
    "    for fkey in all_fkeys:\n",
    "        con.execute(DropConstraint(fkey))\n",
    "\n",
    "    for table in tables:\n",
    "        con.execute(DropTable(table))\n",
    "\n",
    "    trans.commit()\n",
    "\n",
    "def import_articles(file):\n",
    "    basename = os.path.basename(file)\n",
    "    filename = basename.split('.')[0]\n",
    "    a1 = Article(article=filename)\n",
    "    db.session.add(a1)\n",
    "    db.session.commit()\n",
    "\n",
    "def get_file_by_type(filetype):\n",
    "    sourcedir = app.config.get('TESTING_FOLDER')\n",
    "    for basename in os.listdir(sourcedir):\n",
    "        file = os.path.join(sourcedir, basename)\n",
    "        basename = os.path.basename(file)\n",
    "        extention = basename.split('.')[1]\n",
    "        if extention == filetype:\n",
    "            return file\n",
    "\n",
    "def get_file_by_name(filename):\n",
    "    sourcedir = app.config.get('TESTING_FOLDER')\n",
    "    for basename in os.listdir(sourcedir):\n",
    "        file = os.path.join(sourcedir, basename)\n",
    "        basename = os.path.basename(file)\n",
    "        if basename.startswith(filename):\n",
    "            return file\n",
    "    return file"
   ],
   "metadata": {
    "collapsed": false,
    "pycharm": {
     "name": "#%%\n"
    }
   }
  },
  {
   "cell_type": "code",
   "execution_count": 4,
   "outputs": [],
   "source": [
    "import time\n",
    "class Timer:\n",
    "    def __enter__(self):\n",
    "        self.start = time.time()\n",
    "        return self\n",
    "\n",
    "    def __exit__(self, exc_type, value, tb):\n",
    "        self.duration = time.time() - self.start"
   ],
   "metadata": {
    "collapsed": false,
    "pycharm": {
     "name": "#%%\n"
    }
   }
  },
  {
   "cell_type": "markdown",
   "source": [
    "### Create table\n"
   ],
   "metadata": {
    "collapsed": false,
    "pycharm": {
     "name": "#%% md\n"
    }
   }
  },
  {
   "cell_type": "code",
   "execution_count": 5,
   "outputs": [],
   "source": [
    "delete_table_records()"
   ],
   "metadata": {
    "collapsed": false,
    "pycharm": {
     "name": "#%%\n"
    }
   }
  },
  {
   "cell_type": "code",
   "execution_count": 7,
   "outputs": [],
   "source": [
    "db.drop_all()"
   ],
   "metadata": {
    "collapsed": false,
    "pycharm": {
     "name": "#%%\n"
    }
   }
  },
  {
   "cell_type": "code",
   "execution_count": 8,
   "outputs": [],
   "source": [
    "db.create_all()"
   ],
   "metadata": {
    "collapsed": false,
    "pycharm": {
     "name": "#%%\n"
    }
   }
  },
  {
   "cell_type": "markdown",
   "source": [
    "### import article data"
   ],
   "metadata": {
    "collapsed": false,
    "pycharm": {
     "name": "#%% md\n"
    }
   }
  },
  {
   "cell_type": "code",
   "execution_count": 10,
   "outputs": [],
   "source": [
    "import_articles(get_file_by_name('103_'))\n"
   ],
   "metadata": {
    "collapsed": false,
    "pycharm": {
     "name": "#%%\n"
    }
   }
  },
  {
   "cell_type": "code",
   "execution_count": 11,
   "outputs": [],
   "source": [
    "# db.session.query(Article).delete()\n",
    "# db.session.commit()\n"
   ],
   "metadata": {
    "collapsed": false,
    "pycharm": {
     "name": "#%%\n"
    }
   }
  },
  {
   "cell_type": "markdown",
   "source": [
    "### tring"
   ],
   "metadata": {
    "collapsed": false,
    "pycharm": {
     "name": "#%% md\n"
    }
   }
  },
  {
   "cell_type": "code",
   "execution_count": 12,
   "outputs": [],
   "source": [
    "# db.session.remove()\n",
    "# tokens = get_tokens(read_text(get_file('txt')))\n",
    "# words = [Word(word=t) for t in tokens]\n",
    "# db.session.add_all(words)\n",
    "# db.session.commit()\n"
   ],
   "metadata": {
    "collapsed": false,
    "pycharm": {
     "name": "#%%\n"
    }
   }
  },
  {
   "cell_type": "code",
   "execution_count": 13,
   "outputs": [],
   "source": [
    "# sentences = get_sentence(get_file('txt'))\n",
    "# sentence = Sentence(sentence=sentences[0])\n",
    "# tokens = get_tokens(sentences[0])\n",
    "# words = [Word(word=t) for t in tokens]\n",
    "# sw = [SentenceWord(sentence=sentence, word=w) for w in words]\n",
    "#\n",
    "# db.session.add_all(sw)\n",
    "# db.session.new\n",
    "# db.session.commit()"
   ],
   "metadata": {
    "collapsed": false,
    "pycharm": {
     "name": "#%%\n"
    }
   }
  },
  {
   "cell_type": "code",
   "execution_count": 14,
   "outputs": [],
   "source": [
    "# db.session.remove()\n",
    "# sentence = 'this is a one'\n",
    "# tokens = get_tokens(sentence)\n",
    "# a = db.session.query(Article).first()\n",
    "# w1 = db.session.query(Word).filter(Word.word == tokens[0]).first()\n",
    "# w2 = db.session.query(Word).filter(Word.word == tokens[1]).first()\n",
    "# w3 = db.session.query(Word).filter(Word.word == tokens[2]).first()\n",
    "# w4 = db.session.query(Word).filter(Word.word == tokens[3]).first()\n",
    "# s = Sentence(sentence=sentence, article=a)\n",
    "# sw1 = SentenceWord(word=w1)\n",
    "# sw2 = SentenceWord(word=w2)\n",
    "# sw3 = SentenceWord(word=w3)\n",
    "# sw4 = SentenceWord(word=w4)\n",
    "# s.sentencewords.append(sw1)\n",
    "# s.sentencewords.append(sw2)\n",
    "# s.sentencewords.append(sw3)\n",
    "# s.sentencewords.append(sw4)\n",
    "# db.session.add(s)\n",
    "# db.session.commit()"
   ],
   "metadata": {
    "collapsed": false,
    "pycharm": {
     "name": "#%%\n"
    }
   }
  },
  {
   "cell_type": "markdown",
   "source": [
    "### import words avoiding Duplicates"
   ],
   "metadata": {
    "collapsed": false,
    "pycharm": {
     "name": "#%% md\n"
    }
   }
  },
  {
   "cell_type": "code",
   "execution_count": 93,
   "outputs": [
    {
     "name": "stdout",
     "output_type": "stream",
     "text": [
      "took 0.7895591259002686 seconds\n"
     ]
    }
   ],
   "source": [
    "# insert article words\n",
    "def import_word(filename):\n",
    "    with Timer() as timer:\n",
    "        tokens = set(get_tokens(read_text(get_file_by_name(filename))))\n",
    "        exist = db.session.query(Word.word).all()\n",
    "        exist =  set([e[0] for e in exist])\n",
    "        not_exist = tokens - exist\n",
    "        for n in not_exist:\n",
    "            w = Word(word=n)\n",
    "            db.session.add(w)\n",
    "        db.session.new\n",
    "        db.session.commit()\n",
    "    print(\"took\", timer.duration, \"seconds\")\n",
    "\n",
    "db.session.remove()\n",
    "import_word('big')"
   ],
   "metadata": {
    "collapsed": false,
    "pycharm": {
     "name": "#%%\n"
    }
   }
  },
  {
   "cell_type": "markdown",
   "source": [
    "### import sentence and sentenceword"
   ],
   "metadata": {
    "collapsed": false,
    "pycharm": {
     "name": "#%% md\n"
    }
   }
  },
  {
   "cell_type": "code",
   "execution_count": 104,
   "outputs": [
    {
     "name": "stdout",
     "output_type": "stream",
     "text": [
      "took 2.2678542137145996 seconds\n"
     ]
    },
    {
     "data": {
      "text/plain": "1885"
     },
     "execution_count": 104,
     "metadata": {},
     "output_type": "execute_result"
    }
   ],
   "source": [
    "def import_sentence(filename):\n",
    "    with Timer() as timer:\n",
    "        # insert SentenceWords\n",
    "        db.session.remove()\n",
    "        article = db.session.query(Article).first()\n",
    "\n",
    "        sl = []\n",
    "        sentences = get_sentence(get_file_by_name(filename))\n",
    "        tokens_all = get_tokens(read_text(get_file_by_name(filename)))\n",
    "        words_all = db.session.query(Word).filter(Word.word.in_(tokens_all)).all()\n",
    "        for sentence in sentences:\n",
    "            tokens = get_tokens(sentence)\n",
    "            s = Sentence(sentence=sentence, article=article)\n",
    "            w = [w for w in words_all if w.word in tokens]\n",
    "            sw = [SentenceWord(word=i) for i in w]\n",
    "            s.sentencewords = sw\n",
    "            sl.append(s)\n",
    "        db.session.add_all(sl)\n",
    "        db.session.commit()\n",
    "\n",
    "    print(\"took\", timer.duration, \"seconds\")\n",
    "\n",
    "db.session.remove()\n",
    "import_sentence('103_')"
   ],
   "metadata": {
    "collapsed": false,
    "pycharm": {
     "name": "#%%\n"
    }
   }
  },
  {
   "cell_type": "markdown",
   "source": [
    "### import my dict\n",
    "\n"
   ],
   "metadata": {
    "collapsed": false,
    "pycharm": {
     "name": "#%% md\n"
    }
   }
  },
  {
   "cell_type": "code",
   "execution_count": 47,
   "outputs": [
    {
     "name": "stdout",
     "output_type": "stream",
     "text": [
      "took 5.542737245559692 seconds\n"
     ]
    }
   ],
   "source": [
    "def import_dict():\n",
    "    sourcedir = app.config.get('MYDICT_FOLDER')\n",
    "    file = os.path.join(sourcedir, 'mydict.csv' )\n",
    "    with Timer() as timer:\n",
    "        tokens = get_tokens(read_text(file))\n",
    "        for t in tokens:\n",
    "            m = db.session.query(Word).join(Mydict).filter(Word.word==t).first()\n",
    "            if not m:\n",
    "                w = db.session.query(Word).filter(Word.word == t).first()\n",
    "                if not w:\n",
    "                    w = Word(word=t)\n",
    "                    m = Mydict(word=w)\n",
    "                    db.session.add(w)\n",
    "                    db.session.add(m)\n",
    "                else:\n",
    "                    m = Mydict(word=w)\n",
    "                    db.session.add(m)\n",
    "        db.session.new\n",
    "        db.session.commit()\n",
    "    print(\"took\", timer.duration, \"seconds\")\n",
    "\n",
    "import_dict()"
   ],
   "metadata": {
    "collapsed": false,
    "pycharm": {
     "name": "#%%\n"
    }
   }
  },
  {
   "cell_type": "code",
   "execution_count": null,
   "outputs": [],
   "source": [],
   "metadata": {
    "collapsed": false,
    "pycharm": {
     "name": "#%%\n"
    }
   }
  },
  {
   "cell_type": "markdown",
   "source": [
    "## Querying Data"
   ],
   "metadata": {
    "collapsed": false,
    "pycharm": {
     "name": "#%% md\n"
    }
   }
  },
  {
   "cell_type": "markdown",
   "source": [
    "### all() method"
   ],
   "metadata": {
    "collapsed": false,
    "pycharm": {
     "name": "#%% md\n"
    }
   }
  },
  {
   "cell_type": "code",
   "execution_count": 18,
   "outputs": [
    {
     "data": {
      "text/plain": "[<Article:1-103_The_One_With_the_Thumb>,\n <Article:2-103_The_One_With_the_Thumb>]"
     },
     "execution_count": 18,
     "metadata": {},
     "output_type": "execute_result"
    }
   ],
   "source": [
    "db.session.query(Article).limit(10).all()"
   ],
   "metadata": {
    "collapsed": false,
    "pycharm": {
     "name": "#%%\n"
    }
   }
  },
  {
   "cell_type": "code",
   "execution_count": 44,
   "outputs": [
    {
     "data": {
      "text/plain": "<Word:10000-dedicated>"
     },
     "execution_count": 44,
     "metadata": {},
     "output_type": "execute_result"
    }
   ],
   "source": [
    "db.session.query(Word).get(10000)"
   ],
   "metadata": {
    "collapsed": false,
    "pycharm": {
     "name": "#%%\n"
    }
   }
  },
  {
   "cell_type": "code",
   "execution_count": 20,
   "outputs": [
    {
     "data": {
      "text/plain": "[]"
     },
     "execution_count": 20,
     "metadata": {},
     "output_type": "execute_result"
    }
   ],
   "source": [
    "db.session.query(Sentence).limit(10).all()"
   ],
   "metadata": {
    "collapsed": false,
    "pycharm": {
     "name": "#%%\n"
    }
   }
  },
  {
   "cell_type": "code",
   "execution_count": 21,
   "outputs": [
    {
     "data": {
      "text/plain": "[]"
     },
     "execution_count": 21,
     "metadata": {},
     "output_type": "execute_result"
    }
   ],
   "source": [
    "db.session.query(SentenceWord).limit(10).all()"
   ],
   "metadata": {
    "collapsed": false,
    "pycharm": {
     "name": "#%%\n"
    }
   }
  },
  {
   "cell_type": "code",
   "execution_count": 22,
   "outputs": [
    {
     "data": {
      "text/plain": "[<Mydict:1-<Word:1-i>>, <Mydict:2-<Word:2-you>>, <Mydict:3-<Word:3-a>>]"
     },
     "execution_count": 22,
     "metadata": {},
     "output_type": "execute_result"
    }
   ],
   "source": [
    "db.session.query(Mydict).limit(10).all()"
   ],
   "metadata": {
    "collapsed": false,
    "pycharm": {
     "name": "#%%\n"
    }
   }
  },
  {
   "cell_type": "markdown",
   "source": [
    "### join() method\n"
   ],
   "metadata": {
    "collapsed": false
   }
  },
  {
   "cell_type": "code",
   "execution_count": 48,
   "outputs": [
    {
     "data": {
      "text/plain": "4258"
     },
     "execution_count": 48,
     "metadata": {},
     "output_type": "execute_result"
    }
   ],
   "source": [
    "db.session.query(Word).join(Mydict).count()"
   ],
   "metadata": {
    "collapsed": false,
    "pycharm": {
     "name": "#%%\n"
    }
   }
  },
  {
   "cell_type": "code",
   "execution_count": 63,
   "outputs": [
    {
     "name": "stdout",
     "output_type": "stream",
     "text": [
      "SELECT words.id AS words_id, words.word AS words_word, words.translation AS words_translation \n",
      "FROM words \n",
      "WHERE words.word IN (%(word_1)s, %(word_2)s)\n"
     ]
    }
   ],
   "source": [
    "print(db.session.query(Word).filter(Word.word.in_(['Toby', 'Sarah'])))"
   ],
   "metadata": {
    "collapsed": false,
    "pycharm": {
     "name": "#%%\n"
    }
   }
  },
  {
   "cell_type": "code",
   "execution_count": 70,
   "outputs": [
    {
     "data": {
      "text/plain": "[<Word:6-the>, <Word:78-one>]"
     },
     "execution_count": 70,
     "metadata": {},
     "output_type": "execute_result"
    }
   ],
   "source": [
    "db.session.remove()\n",
    "db.session.query(Word).filter(Word.word.in_(['the', 'one'])).all()\n",
    "\n"
   ],
   "metadata": {
    "collapsed": false,
    "pycharm": {
     "name": "#%%\n"
    }
   }
  },
  {
   "cell_type": "code",
   "execution_count": 5,
   "outputs": [
    {
     "data": {
      "text/plain": "772"
     },
     "execution_count": 5,
     "metadata": {},
     "output_type": "execute_result"
    }
   ],
   "source": [
    "from sqlalchemy import distinct\n",
    "db.session.query(\n",
    "    Article, Word\n",
    ").join(Sentence).join(SentenceWord).join(Word).filter(\n",
    "    Article.id == 1,\n",
    ").distinct().count()"
   ],
   "metadata": {
    "collapsed": false,
    "pycharm": {
     "name": "#%%\n"
    }
   }
  },
  {
   "cell_type": "code",
   "execution_count": 10,
   "outputs": [
    {
     "data": {
      "text/plain": "772"
     },
     "execution_count": 10,
     "metadata": {},
     "output_type": "execute_result"
    }
   ],
   "source": [
    "wheres = db.session.query(\n",
    "            Article, Word.word\n",
    "        ).join(Sentence).join(SentenceWord).join(Word).filter(\n",
    "            Article.id == 1,\n",
    "        ).distinct().all()\n",
    "words = [a[1] for a in wheres]\n",
    "len(words)"
   ],
   "metadata": {
    "collapsed": false,
    "pycharm": {
     "name": "#%%\n"
    }
   }
  },
  {
   "cell_type": "code",
   "execution_count": null,
   "outputs": [],
   "source": [],
   "metadata": {
    "collapsed": false,
    "pycharm": {
     "name": "#%%\n"
    }
   }
  }
 ],
 "metadata": {
  "kernelspec": {
   "name": "python3",
   "language": "python",
   "display_name": "Python 3"
  },
  "language_info": {
   "codemirror_mode": {
    "name": "ipython",
    "version": 2
   },
   "file_extension": ".py",
   "mimetype": "text/x-python",
   "name": "python",
   "nbconvert_exporter": "python",
   "pygments_lexer": "ipython2",
   "version": "2.7.6"
  }
 },
 "nbformat": 4,
 "nbformat_minor": 0
}