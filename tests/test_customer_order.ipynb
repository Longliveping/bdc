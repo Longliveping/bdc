{
 "cells": [
  {
   "cell_type": "code",
   "execution_count": 10,
   "metadata": {
    "collapsed": true
   },
   "outputs": [],
   "source": [
    "from flask_sqlalchemy import SQLAlchemy\n",
    "from flask import Flask\n",
    "import datetime\n",
    "\n",
    "app = Flask(__name__)\n",
    "app.config['SQLALCHEMY_DATABASE_URI'] = 'postgresql+psycopg2://localhost/test_db'\n",
    "app.config['SQLALCHEMY_COMMIT_ON_TEARDOWN'] = True\n",
    "app.config['SQLALCHEMY_TRACK_MODIFICATIONS'] = False\n",
    "db = SQLAlchemy(app)\n",
    "\n",
    "class Customer(db.Model):\n",
    "    __tablename__ = 'customers'\n",
    "    id = db.Column(db.Integer, primary_key=True)\n",
    "    first_name = db.Column(db.String(100), nullable=False)\n",
    "    last_name = db.Column(db.String(100), nullable=False)\n",
    "    username = db.Column(db.String(50), nullable=False)\n",
    "    email = db.Column(db.String(200), nullable=False)\n",
    "    address = db.Column(db.String(200), nullable=False)\n",
    "    town = db.Column(db.String(50), nullable=False)\n",
    "    created_on = db.Column(db.DateTime(), default=datetime.datetime.now())\n",
    "    updated_on = db.Column(db.DateTime(), default=datetime.datetime.now(), onupdate=datetime.datetime.now())\n",
    "\n",
    "    def __init__(self, **kwargs):\n",
    "        super(Customer, self).__init__(**kwargs)\n",
    "\n",
    "    def __repr__(self):\n",
    "        return '<Customer %r>' % self.id\n",
    "\n",
    "class Item(db.Model):\n",
    "    __tablename__ = 'items'\n",
    "    id = db.Column(db.Integer, primary_key=True)\n",
    "    name = db.Column(db.String(64), unique=True)\n",
    "    cost_price = db.Column(db.Numeric(10, 2), nullable=False)\n",
    "    selling_price = db.Column(db.Numeric(10, 2),  nullable=False)\n",
    "    quantity = db.Column(db.Integer(), nullable=False)\n",
    "    db.CheckConstraint('quantity > 0', name='quantity_check')\n",
    "\n",
    "    def __init__(self, **kwargs):\n",
    "        super(Item, self).__init__(**kwargs)\n",
    "\n",
    "    def __repr__(self):\n",
    "        return '<Item %r>' % self.name\n",
    "\n",
    "class Order(db.Model):\n",
    "    __tablename__ = 'orders'\n",
    "    id = db.Column(db.Integer, primary_key=True)\n",
    "    customer_id = db.Column(db.Integer, db.ForeignKey('customers.id'))\n",
    "    date_placed = db.Column(db.DateTime(), default=datetime.datetime.now())\n",
    "    date_shipped = db.Column(db.DateTime())\n",
    "    customer = db.relationship('Customer', backref='orders')\n",
    "\n",
    "    def __init__(self, **kwargs):\n",
    "        super(Order, self).__init__(**kwargs)\n",
    "\n",
    "    def __repr__(self):\n",
    "        return '<Order %r>' % self.id\n",
    "\n",
    "class OrderLine(db.Model):\n",
    "    __tablename__ = 'orderlines'\n",
    "    id = db.Column(db.Integer, primary_key=True)\n",
    "    order_id = db.Column(db.Integer, db.ForeignKey('orders.id'))\n",
    "    item_id = db.Column(db.Integer, db.ForeignKey('items.id'))\n",
    "    quantity = db.Column(db.Integer)\n",
    "    order = db.relationship('Order', backref='orderlines')\n",
    "    item = db.relationship('Item', backref='orderlines')\n",
    "\n",
    "    def __init__(self, **kwargs):\n",
    "        super(OrderLine, self).__init__(**kwargs)\n",
    "\n",
    "    def __repr__(self):\n",
    "        return '<OrderLine %r>' % self.quantity\n",
    "\n",
    "db.create_all()"
   ]
  },
  {
   "cell_type": "code",
   "execution_count": 11,
   "outputs": [],
   "source": [
    "c1 = Customer(first_name='Toby',\n",
    "                      last_name='Miller',\n",
    "                      username='tmiller',\n",
    "                      email='tmiller@example.com',\n",
    "                      address='1662 Kinney Street',\n",
    "                      town='Wolfden'\n",
    "                      )\n",
    "\n",
    "c2 = Customer(first_name='Scott',\n",
    "              last_name='Harvey',\n",
    "              username='scottharvey',\n",
    "              email='scottharvey@example.com',\n",
    "              address='424 Patterson Street',\n",
    "              town='Beckinsdale'\n",
    "              )\n",
    "c3 = Customer(\n",
    "    first_name=\"John\",\n",
    "    last_name=\"Lara\",\n",
    "    username=\"johnlara\",\n",
    "    email=\"johnlara@mail.com\",\n",
    "    address=\"3073 Derek Drive\",\n",
    "    town=\"Norfolk\"\n",
    ")\n",
    "\n",
    "c4 = Customer(\n",
    "    first_name = \"Sarah\",\n",
    "    last_name = \"Tomlin\",\n",
    "    username = \"sarahtomlin\",\n",
    "    email = \"sarahtomlin@mail.com\",\n",
    "    address = \"3572 Poplar Avenue\",\n",
    "    town = \"Norfolk\"\n",
    ")\n",
    "\n",
    "c5 = Customer(first_name = 'Toby',\n",
    "              last_name = 'Miller',\n",
    "              username = 'tmiller',\n",
    "              email = 'tmiller@example.com',\n",
    "              address = '1662 Kinney Street',\n",
    "              town = 'Wolfden'\n",
    "              )\n",
    "\n",
    "c6 = Customer(first_name = 'Scott',\n",
    "              last_name = 'Harvey',\n",
    "              username = 'scottharvey',\n",
    "              email = 'scottharvey@example.com',\n",
    "              address = '424 Patterson Street',\n",
    "              town = 'Beckinsdale'\n",
    "              )\n",
    "\n",
    "db.session.add_all([c1, c2, c3, c4, c5, c6])\n",
    "db.session.commit()"
   ],
   "metadata": {
    "collapsed": false,
    "pycharm": {
     "name": "#%%\n"
    }
   }
  },
  {
   "cell_type": "code",
   "execution_count": 12,
   "outputs": [],
   "source": [
    "i1 = Item(name = 'Chair', cost_price = 9.21, selling_price = 10.81, quantity = 5)\n",
    "i2 = Item(name = 'Pen', cost_price = 3.45, selling_price = 4.51, quantity = 3)\n",
    "i3 = Item(name = 'Headphone', cost_price = 15.52, selling_price = 16.81, quantity = 50)\n",
    "i4 = Item(name = 'Travel Bag', cost_price = 20.1, selling_price = 24.21, quantity = 50)\n",
    "i5 = Item(name = 'Keyboard', cost_price = 20.1, selling_price = 22.11, quantity = 50)\n",
    "i6 = Item(name = 'Monitor', cost_price = 200.14, selling_price = 212.89, quantity = 50)\n",
    "i7 = Item(name = 'Watch', cost_price = 100.58, selling_price = 104.41, quantity = 50)\n",
    "i8 = Item(name = 'Water Bottle', cost_price = 20.89, selling_price = 25, quantity = 50)\n",
    "\n",
    "db.session.add_all([i1, i2, i3, i4, i5, i6, i7, i8])\n",
    "db.session.commit()\n",
    "\n",
    "o1 = Order(customer = c1)\n",
    "o2 = Order(customer = c1)\n",
    "\n",
    "line_item1 = OrderLine(order = o1, item = i1, quantity =  3)\n",
    "line_item2 = OrderLine(order = o1, item = i2, quantity =  2)\n",
    "line_item3 = OrderLine(order = o2, item = i1, quantity =  1)\n",
    "line_item4 = OrderLine(order = o2, item = i2, quantity =  4)\n",
    "\n",
    "db.session.add_all([o1, o2])\n",
    "# db.session.add_all([line_item1, line_item2,line_item3,line_item4])\n",
    "\n",
    "db.session.new\n",
    "db.session.commit()\n"
   ],
   "metadata": {
    "collapsed": false,
    "pycharm": {
     "name": "#%%\n"
    }
   }
  },
  {
   "cell_type": "code",
   "execution_count": 13,
   "outputs": [],
   "source": [
    "db.session.remove()\n",
    "i1 = Item(name = 'Tool', cost_price = 9.21, selling_price = 10.81, quantity = 5)\n",
    "i2 = Item(name = 'tolls', cost_price = 3.45, selling_price = 4.51, quantity = 3)\n",
    "#\n",
    "i1 = db.session.query(Item).filter(Item.name == 'Tool').first()\n",
    "i2 = db.session.query(Item).filter(Item.name == 'tolls').first()\n",
    "\n",
    "o3 = Order(customer = c2)\n",
    "orderline1 = OrderLine(item = i1, quantity = 5)\n",
    "orderline2 = OrderLine(item = i2, quantity = 10)\n",
    "#\n",
    "o3.orderlines.append(orderline1)\n",
    "o3.orderlines.append(orderline2)\n",
    "\n",
    "db.session.add_all([o3])\n",
    "db.session.commit()"
   ],
   "metadata": {
    "collapsed": false,
    "pycharm": {
     "name": "#%%\n"
    }
   }
  },
  {
   "cell_type": "code",
   "execution_count": 14,
   "outputs": [],
   "source": [
    "db.session.remove()\n",
    "db.session.query(OrderLine).delete()\n",
    "db.session.commit()"
   ],
   "metadata": {
    "collapsed": false,
    "pycharm": {
     "name": "#%%\n"
    }
   }
  },
  {
   "cell_type": "code",
   "execution_count": 15,
   "outputs": [],
   "source": [
    "\n",
    "db.session.query(Order).delete()\n",
    "db.session.query(Item).delete()\n",
    "db.session.query(Customer).delete()\n",
    "db.session.commit()"
   ],
   "metadata": {
    "collapsed": false,
    "pycharm": {
     "name": "#%%\n"
    }
   }
  },
  {
   "cell_type": "code",
   "execution_count": null,
   "outputs": [],
   "source": [],
   "metadata": {
    "collapsed": false,
    "pycharm": {
     "name": "#%%\n"
    }
   }
  }
 ],
 "metadata": {
  "kernelspec": {
   "name": "pycharm-c48ba242",
   "language": "python",
   "display_name": "PyCharm (sqlalchemy-1)"
  },
  "language_info": {
   "codemirror_mode": {
    "name": "ipython",
    "version": 2
   },
   "file_extension": ".py",
   "mimetype": "text/x-python",
   "name": "python",
   "nbconvert_exporter": "python",
   "pygments_lexer": "ipython2",
   "version": "2.7.6"
  }
 },
 "nbformat": 4,
 "nbformat_minor": 0
}